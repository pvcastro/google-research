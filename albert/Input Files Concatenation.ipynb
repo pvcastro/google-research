{
 "cells": [
  {
   "cell_type": "code",
   "execution_count": 1,
   "metadata": {},
   "outputs": [],
   "source": [
    "from pathlib import Path"
   ]
  },
  {
   "cell_type": "code",
   "execution_count": 3,
   "metadata": {},
   "outputs": [],
   "source": [
    "TARGET_DIR = Path('/media/discoD/Corpora/Portuguese_Wikipedia_Dump/bert/data/wiki/')"
   ]
  },
  {
   "cell_type": "code",
   "execution_count": 5,
   "metadata": {},
   "outputs": [],
   "source": [
    "TARGET_DIRS = [subfolder for subfolder in TARGET_DIR.iterdir()]"
   ]
  },
  {
   "cell_type": "code",
   "execution_count": 6,
   "metadata": {},
   "outputs": [],
   "source": [
    "MAX_SEQ_LEN=512"
   ]
  },
  {
   "cell_type": "code",
   "execution_count": 7,
   "metadata": {},
   "outputs": [],
   "source": [
    "INPUT_FILE = ','.join( [ '{}/all-maxseq{}.tfrecord'.format(target, MAX_SEQ_LEN) for target in TARGET_DIRS] )"
   ]
  },
  {
   "cell_type": "code",
   "execution_count": 8,
   "metadata": {},
   "outputs": [
    {
     "data": {
      "text/plain": [
       "'/media/discoD/Corpora/Portuguese_Wikipedia_Dump/bert/data/wiki/AA/all-maxseq512.tfrecord,/media/discoD/Corpora/Portuguese_Wikipedia_Dump/bert/data/wiki/AB/all-maxseq512.tfrecord,/media/discoD/Corpora/Portuguese_Wikipedia_Dump/bert/data/wiki/AC/all-maxseq512.tfrecord,/media/discoD/Corpora/Portuguese_Wikipedia_Dump/bert/data/wiki/AD/all-maxseq512.tfrecord,/media/discoD/Corpora/Portuguese_Wikipedia_Dump/bert/data/wiki/AE/all-maxseq512.tfrecord,/media/discoD/Corpora/Portuguese_Wikipedia_Dump/bert/data/wiki/AF/all-maxseq512.tfrecord,/media/discoD/Corpora/Portuguese_Wikipedia_Dump/bert/data/wiki/AG/all-maxseq512.tfrecord,/media/discoD/Corpora/Portuguese_Wikipedia_Dump/bert/data/wiki/AH/all-maxseq512.tfrecord,/media/discoD/Corpora/Portuguese_Wikipedia_Dump/bert/data/wiki/AI/all-maxseq512.tfrecord,/media/discoD/Corpora/Portuguese_Wikipedia_Dump/bert/data/wiki/AJ/all-maxseq512.tfrecord,/media/discoD/Corpora/Portuguese_Wikipedia_Dump/bert/data/wiki/AK/all-maxseq512.tfrecord,/media/discoD/Corpora/Portuguese_Wikipedia_Dump/bert/data/wiki/AL/all-maxseq512.tfrecord,/media/discoD/Corpora/Portuguese_Wikipedia_Dump/bert/data/wiki/AM/all-maxseq512.tfrecord,/media/discoD/Corpora/Portuguese_Wikipedia_Dump/bert/data/wiki/AN/all-maxseq512.tfrecord,/media/discoD/Corpora/Portuguese_Wikipedia_Dump/bert/data/wiki/AO/all-maxseq512.tfrecord,/media/discoD/Corpora/Portuguese_Wikipedia_Dump/bert/data/wiki/AP/all-maxseq512.tfrecord,/media/discoD/Corpora/Portuguese_Wikipedia_Dump/bert/data/wiki/AQ/all-maxseq512.tfrecord'"
      ]
     },
     "execution_count": 8,
     "metadata": {},
     "output_type": "execute_result"
    }
   ],
   "source": [
    "INPUT_FILE"
   ]
  },
  {
   "cell_type": "code",
   "execution_count": 11,
   "metadata": {},
   "outputs": [
    {
     "name": "stdout",
     "output_type": "stream",
     "text": [
      "/media/discoD/Corpora/Portuguese_Wikipedia_Dump/bert/data/wiki/AA/all-maxseq512.tfrecord\n"
     ]
    },
    {
     "ename": "AssertionError",
     "evalue": "",
     "output_type": "error",
     "traceback": [
      "\u001b[0;31m---------------------------------------------------------------------------\u001b[0m",
      "\u001b[0;31mAssertionError\u001b[0m                            Traceback (most recent call last)",
      "\u001b[0;32m<ipython-input-11-1481c37a7b8d>\u001b[0m in \u001b[0;36m<module>\u001b[0;34m\u001b[0m\n\u001b[1;32m      2\u001b[0m     \u001b[0mtf_file\u001b[0m \u001b[0;34m=\u001b[0m \u001b[0mPath\u001b[0m\u001b[0;34m(\u001b[0m\u001b[0;34m'{}/all-maxseq{}.tfrecord'\u001b[0m\u001b[0;34m.\u001b[0m\u001b[0mformat\u001b[0m\u001b[0;34m(\u001b[0m\u001b[0mtarget\u001b[0m\u001b[0;34m,\u001b[0m \u001b[0mMAX_SEQ_LEN\u001b[0m\u001b[0;34m)\u001b[0m\u001b[0;34m)\u001b[0m\u001b[0;34m\u001b[0m\u001b[0;34m\u001b[0m\u001b[0m\n\u001b[1;32m      3\u001b[0m     \u001b[0mprint\u001b[0m\u001b[0;34m(\u001b[0m\u001b[0mtf_file\u001b[0m\u001b[0;34m)\u001b[0m\u001b[0;34m\u001b[0m\u001b[0;34m\u001b[0m\u001b[0m\n\u001b[0;32m----> 4\u001b[0;31m     \u001b[0;32massert\u001b[0m \u001b[0mtf_file\u001b[0m\u001b[0;34m.\u001b[0m\u001b[0mexists\u001b[0m\u001b[0;34m(\u001b[0m\u001b[0;34m)\u001b[0m\u001b[0;34m\u001b[0m\u001b[0;34m\u001b[0m\u001b[0m\n\u001b[0m",
      "\u001b[0;31mAssertionError\u001b[0m: "
     ]
    }
   ],
   "source": [
    "for target in TARGET_DIRS:\n",
    "    tf_file = Path('{}/all-maxseq{}.tfrecord'.format(target, MAX_SEQ_LEN))\n",
    "    print(tf_file)\n",
    "    assert tf_file.exists()"
   ]
  },
  {
   "cell_type": "code",
   "execution_count": null,
   "metadata": {},
   "outputs": [],
   "source": []
  }
 ],
 "metadata": {
  "kernelspec": {
   "display_name": "Python 3",
   "language": "python",
   "name": "python3"
  },
  "language_info": {
   "codemirror_mode": {
    "name": "ipython",
    "version": 3
   },
   "file_extension": ".py",
   "mimetype": "text/x-python",
   "name": "python",
   "nbconvert_exporter": "python",
   "pygments_lexer": "ipython3",
   "version": "3.7.4"
  }
 },
 "nbformat": 4,
 "nbformat_minor": 2
}
